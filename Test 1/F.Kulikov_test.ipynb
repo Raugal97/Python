{
 "cells": [
  {
   "cell_type": "markdown",
   "metadata": {},
   "source": [
    "# Описание:\n",
    "На вкладке data приведены сессии просмотра телеканалов респондентами\n",
    "\n",
    "Задание (анализ данных):\n",
    "Загрузить датасет в pandas dataframe и при необходимости предобработать\n",
    "После всестороннего анализа данных описать выявленные особенности телепотребления\n",
    "\n",
    "Задание (обработка данных)\n",
    "Необходимо построить почасовую динамику в течение дня. \n",
    "Обращаем внимание, что сессию  15:45-17:08 логичино учитывать в трех часовых интервалах - 15:00-16:00, 16:00-17:00, 17:00-18:00\n"
   ]
  },
  {
   "cell_type": "code",
   "execution_count": 2,
   "metadata": {},
   "outputs": [],
   "source": [
    "import pandas as pd\n",
    "import os\n",
    "import numpy as np\n",
    "import datetime\n",
    "\n",
    "\n",
    "import matplotlib.pyplot as plt\n",
    "\n",
    "%matplotlib inline"
   ]
  },
  {
   "cell_type": "code",
   "execution_count": 3,
   "metadata": {},
   "outputs": [
    {
     "data": {
      "text/plain": [
       "['.ipynb_checkpoints',\n",
       " 'F.Kulikov_Mediascope.ipynb',\n",
       " 'out3.zip',\n",
       " 'out2.zip',\n",
       " 'partner_in_analysis_tableau.xlsx',\n",
       " 'out.zip']"
      ]
     },
     "execution_count": 3,
     "metadata": {},
     "output_type": "execute_result"
    }
   ],
   "source": [
    "os.listdir()"
   ]
  },
  {
   "cell_type": "code",
   "execution_count": 4,
   "metadata": {},
   "outputs": [],
   "source": [
    "df = pd.read_excel('partner_in_analysis_tableau.xlsx', sheet_name=1)"
   ]
  },
  {
   "cell_type": "code",
   "execution_count": 5,
   "metadata": {
    "scrolled": false
   },
   "outputs": [
    {
     "data": {
      "text/html": [
       "<div>\n",
       "<style scoped>\n",
       "    .dataframe tbody tr th:only-of-type {\n",
       "        vertical-align: middle;\n",
       "    }\n",
       "\n",
       "    .dataframe tbody tr th {\n",
       "        vertical-align: top;\n",
       "    }\n",
       "\n",
       "    .dataframe thead th {\n",
       "        text-align: right;\n",
       "    }\n",
       "</style>\n",
       "<table border=\"1\" class=\"dataframe\">\n",
       "  <thead>\n",
       "    <tr style=\"text-align: right;\">\n",
       "      <th></th>\n",
       "      <th>ResearchDate</th>\n",
       "      <th>RespondentID</th>\n",
       "      <th>Start</th>\n",
       "      <th>Stop</th>\n",
       "      <th>Duration</th>\n",
       "      <th>PackageID</th>\n",
       "      <th>Weight</th>\n",
       "      <th>Title</th>\n",
       "    </tr>\n",
       "  </thead>\n",
       "  <tbody>\n",
       "    <tr>\n",
       "      <th>0</th>\n",
       "      <td>2021-02-06</td>\n",
       "      <td>resp0478878</td>\n",
       "      <td>2021-02-06 20:20:00</td>\n",
       "      <td>2021-02-06 20:20:00</td>\n",
       "      <td>60</td>\n",
       "      <td>2004</td>\n",
       "      <td>6.590</td>\n",
       "      <td>Мужчины 45-54</td>\n",
       "    </tr>\n",
       "    <tr>\n",
       "      <th>1</th>\n",
       "      <td>2021-02-06</td>\n",
       "      <td>resp0478878</td>\n",
       "      <td>2021-02-06 15:45:00</td>\n",
       "      <td>2021-02-06 17:08:00</td>\n",
       "      <td>5040</td>\n",
       "      <td>2039</td>\n",
       "      <td>6.590</td>\n",
       "      <td>Мужчины 45-54</td>\n",
       "    </tr>\n",
       "    <tr>\n",
       "      <th>2</th>\n",
       "      <td>2021-02-06</td>\n",
       "      <td>resp0478878</td>\n",
       "      <td>2021-02-06 10:07:00</td>\n",
       "      <td>2021-02-06 11:57:00</td>\n",
       "      <td>6660</td>\n",
       "      <td>2075</td>\n",
       "      <td>6.590</td>\n",
       "      <td>Мужчины 45-54</td>\n",
       "    </tr>\n",
       "    <tr>\n",
       "      <th>3</th>\n",
       "      <td>2021-02-06</td>\n",
       "      <td>resp0478878</td>\n",
       "      <td>2021-02-06 21:05:00</td>\n",
       "      <td>2021-02-06 21:06:00</td>\n",
       "      <td>120</td>\n",
       "      <td>2075</td>\n",
       "      <td>6.590</td>\n",
       "      <td>Мужчины 45-54</td>\n",
       "    </tr>\n",
       "    <tr>\n",
       "      <th>4</th>\n",
       "      <td>2021-02-06</td>\n",
       "      <td>resp0478878</td>\n",
       "      <td>2021-02-06 18:09:00</td>\n",
       "      <td>2021-02-06 18:38:00</td>\n",
       "      <td>1800</td>\n",
       "      <td>2086</td>\n",
       "      <td>6.590</td>\n",
       "      <td>Мужчины 45-54</td>\n",
       "    </tr>\n",
       "    <tr>\n",
       "      <th>5</th>\n",
       "      <td>2021-02-06</td>\n",
       "      <td>resp0478878</td>\n",
       "      <td>2021-02-06 15:41:00</td>\n",
       "      <td>2021-02-06 15:43:00</td>\n",
       "      <td>180</td>\n",
       "      <td>2077</td>\n",
       "      <td>6.590</td>\n",
       "      <td>Мужчины 45-54</td>\n",
       "    </tr>\n",
       "    <tr>\n",
       "      <th>6</th>\n",
       "      <td>2021-02-06</td>\n",
       "      <td>resp0478878</td>\n",
       "      <td>2021-02-06 20:37:00</td>\n",
       "      <td>2021-02-06 20:38:00</td>\n",
       "      <td>120</td>\n",
       "      <td>2036</td>\n",
       "      <td>6.590</td>\n",
       "      <td>Мужчины 45-54</td>\n",
       "    </tr>\n",
       "    <tr>\n",
       "      <th>7</th>\n",
       "      <td>2021-02-06</td>\n",
       "      <td>resp0773240</td>\n",
       "      <td>2021-02-06 11:45:00</td>\n",
       "      <td>2021-02-06 12:05:00</td>\n",
       "      <td>1260</td>\n",
       "      <td>2101</td>\n",
       "      <td>6.712</td>\n",
       "      <td>Женщины 45-54</td>\n",
       "    </tr>\n",
       "    <tr>\n",
       "      <th>8</th>\n",
       "      <td>2021-02-06</td>\n",
       "      <td>resp0773240</td>\n",
       "      <td>2021-02-06 12:14:00</td>\n",
       "      <td>2021-02-06 12:16:00</td>\n",
       "      <td>180</td>\n",
       "      <td>2050</td>\n",
       "      <td>6.712</td>\n",
       "      <td>Женщины 45-54</td>\n",
       "    </tr>\n",
       "    <tr>\n",
       "      <th>9</th>\n",
       "      <td>2021-02-06</td>\n",
       "      <td>resp0773240</td>\n",
       "      <td>2021-02-06 12:27:00</td>\n",
       "      <td>2021-02-06 12:28:00</td>\n",
       "      <td>120</td>\n",
       "      <td>2074</td>\n",
       "      <td>6.712</td>\n",
       "      <td>Женщины 45-54</td>\n",
       "    </tr>\n",
       "    <tr>\n",
       "      <th>10</th>\n",
       "      <td>2021-02-06</td>\n",
       "      <td>resp0773240</td>\n",
       "      <td>2021-02-06 12:17:00</td>\n",
       "      <td>2021-02-06 12:17:00</td>\n",
       "      <td>60</td>\n",
       "      <td>2045</td>\n",
       "      <td>6.712</td>\n",
       "      <td>Женщины 45-54</td>\n",
       "    </tr>\n",
       "    <tr>\n",
       "      <th>11</th>\n",
       "      <td>2021-02-06</td>\n",
       "      <td>resp0773240</td>\n",
       "      <td>2021-02-06 13:00:00</td>\n",
       "      <td>2021-02-06 13:06:00</td>\n",
       "      <td>420</td>\n",
       "      <td>2097</td>\n",
       "      <td>6.712</td>\n",
       "      <td>Женщины 45-54</td>\n",
       "    </tr>\n",
       "    <tr>\n",
       "      <th>12</th>\n",
       "      <td>2021-02-06</td>\n",
       "      <td>resp0773240</td>\n",
       "      <td>2021-02-06 22:14:00</td>\n",
       "      <td>2021-02-06 23:04:00</td>\n",
       "      <td>3060</td>\n",
       "      <td>2091</td>\n",
       "      <td>6.712</td>\n",
       "      <td>Женщины 45-54</td>\n",
       "    </tr>\n",
       "    <tr>\n",
       "      <th>13</th>\n",
       "      <td>2021-02-06</td>\n",
       "      <td>resp0773240</td>\n",
       "      <td>2021-02-06 12:06:00</td>\n",
       "      <td>2021-02-06 12:07:00</td>\n",
       "      <td>120</td>\n",
       "      <td>2092</td>\n",
       "      <td>6.712</td>\n",
       "      <td>Женщины 45-54</td>\n",
       "    </tr>\n",
       "    <tr>\n",
       "      <th>14</th>\n",
       "      <td>2021-02-06</td>\n",
       "      <td>resp0773240</td>\n",
       "      <td>2021-02-06 11:25:00</td>\n",
       "      <td>2021-02-06 11:29:00</td>\n",
       "      <td>300</td>\n",
       "      <td>2083</td>\n",
       "      <td>6.712</td>\n",
       "      <td>Женщины 45-54</td>\n",
       "    </tr>\n",
       "    <tr>\n",
       "      <th>15</th>\n",
       "      <td>2021-02-06</td>\n",
       "      <td>resp0773240</td>\n",
       "      <td>2021-02-06 17:57:00</td>\n",
       "      <td>2021-02-06 18:30:00</td>\n",
       "      <td>2040</td>\n",
       "      <td>2083</td>\n",
       "      <td>6.712</td>\n",
       "      <td>Женщины 45-54</td>\n",
       "    </tr>\n",
       "    <tr>\n",
       "      <th>16</th>\n",
       "      <td>2021-02-06</td>\n",
       "      <td>resp0773240</td>\n",
       "      <td>2021-02-06 23:05:00</td>\n",
       "      <td>2021-02-06 23:11:00</td>\n",
       "      <td>420</td>\n",
       "      <td>2083</td>\n",
       "      <td>6.712</td>\n",
       "      <td>Женщины 45-54</td>\n",
       "    </tr>\n",
       "    <tr>\n",
       "      <th>17</th>\n",
       "      <td>2021-02-06</td>\n",
       "      <td>resp0773240</td>\n",
       "      <td>2021-02-06 12:19:00</td>\n",
       "      <td>2021-02-06 12:20:00</td>\n",
       "      <td>120</td>\n",
       "      <td>2039</td>\n",
       "      <td>6.712</td>\n",
       "      <td>Женщины 45-54</td>\n",
       "    </tr>\n",
       "    <tr>\n",
       "      <th>18</th>\n",
       "      <td>2021-02-06</td>\n",
       "      <td>resp0773240</td>\n",
       "      <td>2021-02-06 11:30:00</td>\n",
       "      <td>2021-02-06 11:38:00</td>\n",
       "      <td>540</td>\n",
       "      <td>2053</td>\n",
       "      <td>6.712</td>\n",
       "      <td>Женщины 45-54</td>\n",
       "    </tr>\n",
       "    <tr>\n",
       "      <th>19</th>\n",
       "      <td>2021-02-06</td>\n",
       "      <td>resp0773240</td>\n",
       "      <td>2021-02-06 12:21:00</td>\n",
       "      <td>2021-02-06 12:22:00</td>\n",
       "      <td>120</td>\n",
       "      <td>2103</td>\n",
       "      <td>6.712</td>\n",
       "      <td>Женщины 45-54</td>\n",
       "    </tr>\n",
       "  </tbody>\n",
       "</table>\n",
       "</div>"
      ],
      "text/plain": [
       "   ResearchDate RespondentID               Start                Stop  \\\n",
       "0    2021-02-06  resp0478878 2021-02-06 20:20:00 2021-02-06 20:20:00   \n",
       "1    2021-02-06  resp0478878 2021-02-06 15:45:00 2021-02-06 17:08:00   \n",
       "2    2021-02-06  resp0478878 2021-02-06 10:07:00 2021-02-06 11:57:00   \n",
       "3    2021-02-06  resp0478878 2021-02-06 21:05:00 2021-02-06 21:06:00   \n",
       "4    2021-02-06  resp0478878 2021-02-06 18:09:00 2021-02-06 18:38:00   \n",
       "5    2021-02-06  resp0478878 2021-02-06 15:41:00 2021-02-06 15:43:00   \n",
       "6    2021-02-06  resp0478878 2021-02-06 20:37:00 2021-02-06 20:38:00   \n",
       "7    2021-02-06  resp0773240 2021-02-06 11:45:00 2021-02-06 12:05:00   \n",
       "8    2021-02-06  resp0773240 2021-02-06 12:14:00 2021-02-06 12:16:00   \n",
       "9    2021-02-06  resp0773240 2021-02-06 12:27:00 2021-02-06 12:28:00   \n",
       "10   2021-02-06  resp0773240 2021-02-06 12:17:00 2021-02-06 12:17:00   \n",
       "11   2021-02-06  resp0773240 2021-02-06 13:00:00 2021-02-06 13:06:00   \n",
       "12   2021-02-06  resp0773240 2021-02-06 22:14:00 2021-02-06 23:04:00   \n",
       "13   2021-02-06  resp0773240 2021-02-06 12:06:00 2021-02-06 12:07:00   \n",
       "14   2021-02-06  resp0773240 2021-02-06 11:25:00 2021-02-06 11:29:00   \n",
       "15   2021-02-06  resp0773240 2021-02-06 17:57:00 2021-02-06 18:30:00   \n",
       "16   2021-02-06  resp0773240 2021-02-06 23:05:00 2021-02-06 23:11:00   \n",
       "17   2021-02-06  resp0773240 2021-02-06 12:19:00 2021-02-06 12:20:00   \n",
       "18   2021-02-06  resp0773240 2021-02-06 11:30:00 2021-02-06 11:38:00   \n",
       "19   2021-02-06  resp0773240 2021-02-06 12:21:00 2021-02-06 12:22:00   \n",
       "\n",
       "    Duration  PackageID  Weight          Title  \n",
       "0         60       2004   6.590  Мужчины 45-54  \n",
       "1       5040       2039   6.590  Мужчины 45-54  \n",
       "2       6660       2075   6.590  Мужчины 45-54  \n",
       "3        120       2075   6.590  Мужчины 45-54  \n",
       "4       1800       2086   6.590  Мужчины 45-54  \n",
       "5        180       2077   6.590  Мужчины 45-54  \n",
       "6        120       2036   6.590  Мужчины 45-54  \n",
       "7       1260       2101   6.712  Женщины 45-54  \n",
       "8        180       2050   6.712  Женщины 45-54  \n",
       "9        120       2074   6.712  Женщины 45-54  \n",
       "10        60       2045   6.712  Женщины 45-54  \n",
       "11       420       2097   6.712  Женщины 45-54  \n",
       "12      3060       2091   6.712  Женщины 45-54  \n",
       "13       120       2092   6.712  Женщины 45-54  \n",
       "14       300       2083   6.712  Женщины 45-54  \n",
       "15      2040       2083   6.712  Женщины 45-54  \n",
       "16       420       2083   6.712  Женщины 45-54  \n",
       "17       120       2039   6.712  Женщины 45-54  \n",
       "18       540       2053   6.712  Женщины 45-54  \n",
       "19       120       2103   6.712  Женщины 45-54  "
      ]
     },
     "execution_count": 5,
     "metadata": {},
     "output_type": "execute_result"
    }
   ],
   "source": [
    "df.head(20)"
   ]
  },
  {
   "cell_type": "code",
   "execution_count": 6,
   "metadata": {},
   "outputs": [
    {
     "data": {
      "text/plain": [
       "(150297, 8)"
      ]
     },
     "execution_count": 6,
     "metadata": {},
     "output_type": "execute_result"
    }
   ],
   "source": [
    "df.shape"
   ]
  },
  {
   "cell_type": "code",
   "execution_count": 7,
   "metadata": {},
   "outputs": [
    {
     "data": {
      "text/plain": [
       "ResearchDate    datetime64[ns]\n",
       "RespondentID            object\n",
       "Start           datetime64[ns]\n",
       "Stop            datetime64[ns]\n",
       "Duration                 int64\n",
       "PackageID                int64\n",
       "Weight                 float64\n",
       "Title                   object\n",
       "dtype: object"
      ]
     },
     "execution_count": 7,
     "metadata": {},
     "output_type": "execute_result"
    }
   ],
   "source": [
    "df.dtypes"
   ]
  },
  {
   "cell_type": "code",
   "execution_count": 8,
   "metadata": {
    "scrolled": true
   },
   "outputs": [
    {
     "data": {
      "text/plain": [
       "ResearchDate    0\n",
       "RespondentID    0\n",
       "Start           0\n",
       "Stop            0\n",
       "Duration        0\n",
       "PackageID       0\n",
       "Weight          0\n",
       "Title           0\n",
       "dtype: int64"
      ]
     },
     "execution_count": 8,
     "metadata": {},
     "output_type": "execute_result"
    }
   ],
   "source": [
    "df.isna().sum()"
   ]
  },
  {
   "cell_type": "code",
   "execution_count": 9,
   "metadata": {},
   "outputs": [
    {
     "data": {
      "text/plain": [
       "Timestamp('2021-02-06 00:00:00')"
      ]
     },
     "execution_count": 9,
     "metadata": {},
     "output_type": "execute_result"
    }
   ],
   "source": [
    "df.ResearchDate.min()"
   ]
  },
  {
   "cell_type": "code",
   "execution_count": 10,
   "metadata": {
    "scrolled": true
   },
   "outputs": [
    {
     "data": {
      "text/plain": [
       "Timestamp('2021-02-14 00:00:00')"
      ]
     },
     "execution_count": 10,
     "metadata": {},
     "output_type": "execute_result"
    }
   ],
   "source": [
    "df.ResearchDate.max()"
   ]
  },
  {
   "cell_type": "code",
   "execution_count": 11,
   "metadata": {
    "scrolled": true
   },
   "outputs": [
    {
     "data": {
      "text/plain": [
       "Timestamp('2021-02-06 05:00:00')"
      ]
     },
     "execution_count": 11,
     "metadata": {},
     "output_type": "execute_result"
    }
   ],
   "source": [
    "df.Start.min()"
   ]
  },
  {
   "cell_type": "code",
   "execution_count": 12,
   "metadata": {},
   "outputs": [
    {
     "data": {
      "text/plain": [
       "Timestamp('2021-02-15 04:53:00')"
      ]
     },
     "execution_count": 12,
     "metadata": {},
     "output_type": "execute_result"
    }
   ],
   "source": [
    "df.Stop.max()"
   ]
  },
  {
   "cell_type": "code",
   "execution_count": 13,
   "metadata": {},
   "outputs": [
    {
     "data": {
      "text/plain": [
       "1299"
      ]
     },
     "execution_count": 13,
     "metadata": {},
     "output_type": "execute_result"
    }
   ],
   "source": [
    "df.RespondentID.nunique()"
   ]
  },
  {
   "cell_type": "code",
   "execution_count": 14,
   "metadata": {},
   "outputs": [
    {
     "data": {
      "text/plain": [
       "102"
      ]
     },
     "execution_count": 14,
     "metadata": {},
     "output_type": "execute_result"
    }
   ],
   "source": [
    "df.PackageID.nunique()"
   ]
  },
  {
   "cell_type": "code",
   "execution_count": 15,
   "metadata": {},
   "outputs": [
    {
     "data": {
      "text/plain": [
       "12"
      ]
     },
     "execution_count": 15,
     "metadata": {},
     "output_type": "execute_result"
    }
   ],
   "source": [
    "df.Title.nunique()"
   ]
  },
  {
   "cell_type": "code",
   "execution_count": 16,
   "metadata": {
    "scrolled": true
   },
   "outputs": [
    {
     "data": {
      "text/plain": [
       "array(['Мужчины 45-54', 'Женщины 45-54', 'Женщины 35-44', 'Мужчины 35-44',\n",
       "       'Женщины 55-64', 'Мужчины 55-64', 'Мужчины 65+', 'Женщины 65+',\n",
       "       'Мужчины 25-34', 'Женщины 25-34', 'Мужчины 18-24 ',\n",
       "       'Женщины 18-24 '], dtype=object)"
      ]
     },
     "execution_count": 16,
     "metadata": {},
     "output_type": "execute_result"
    }
   ],
   "source": [
    "df.Title.unique()"
   ]
  },
  {
   "cell_type": "code",
   "execution_count": 17,
   "metadata": {},
   "outputs": [
    {
     "data": {
      "text/plain": [
       "50640"
      ]
     },
     "execution_count": 17,
     "metadata": {},
     "output_type": "execute_result"
    }
   ],
   "source": [
    "df.Duration.max()"
   ]
  },
  {
   "cell_type": "code",
   "execution_count": 18,
   "metadata": {
    "scrolled": true
   },
   "outputs": [
    {
     "data": {
      "text/html": [
       "<div>\n",
       "<style scoped>\n",
       "    .dataframe tbody tr th:only-of-type {\n",
       "        vertical-align: middle;\n",
       "    }\n",
       "\n",
       "    .dataframe tbody tr th {\n",
       "        vertical-align: top;\n",
       "    }\n",
       "\n",
       "    .dataframe thead th {\n",
       "        text-align: right;\n",
       "    }\n",
       "</style>\n",
       "<table border=\"1\" class=\"dataframe\">\n",
       "  <thead>\n",
       "    <tr style=\"text-align: right;\">\n",
       "      <th></th>\n",
       "      <th>Duration</th>\n",
       "      <th>PackageID</th>\n",
       "      <th>Weight</th>\n",
       "    </tr>\n",
       "  </thead>\n",
       "  <tbody>\n",
       "    <tr>\n",
       "      <th>count</th>\n",
       "      <td>150297.000000</td>\n",
       "      <td>150297.000000</td>\n",
       "      <td>150297.000000</td>\n",
       "    </tr>\n",
       "    <tr>\n",
       "      <th>mean</th>\n",
       "      <td>959.730534</td>\n",
       "      <td>2074.266173</td>\n",
       "      <td>7.677263</td>\n",
       "    </tr>\n",
       "    <tr>\n",
       "      <th>std</th>\n",
       "      <td>1921.130797</td>\n",
       "      <td>20.207596</td>\n",
       "      <td>10.416491</td>\n",
       "    </tr>\n",
       "    <tr>\n",
       "      <th>min</th>\n",
       "      <td>60.000000</td>\n",
       "      <td>2000.000000</td>\n",
       "      <td>0.091000</td>\n",
       "    </tr>\n",
       "    <tr>\n",
       "      <th>25%</th>\n",
       "      <td>120.000000</td>\n",
       "      <td>2065.000000</td>\n",
       "      <td>2.147000</td>\n",
       "    </tr>\n",
       "    <tr>\n",
       "      <th>50%</th>\n",
       "      <td>300.000000</td>\n",
       "      <td>2077.000000</td>\n",
       "      <td>3.958000</td>\n",
       "    </tr>\n",
       "    <tr>\n",
       "      <th>75%</th>\n",
       "      <td>960.000000</td>\n",
       "      <td>2086.000000</td>\n",
       "      <td>7.121000</td>\n",
       "    </tr>\n",
       "    <tr>\n",
       "      <th>max</th>\n",
       "      <td>50640.000000</td>\n",
       "      <td>2107.000000</td>\n",
       "      <td>52.066000</td>\n",
       "    </tr>\n",
       "  </tbody>\n",
       "</table>\n",
       "</div>"
      ],
      "text/plain": [
       "            Duration      PackageID         Weight\n",
       "count  150297.000000  150297.000000  150297.000000\n",
       "mean      959.730534    2074.266173       7.677263\n",
       "std      1921.130797      20.207596      10.416491\n",
       "min        60.000000    2000.000000       0.091000\n",
       "25%       120.000000    2065.000000       2.147000\n",
       "50%       300.000000    2077.000000       3.958000\n",
       "75%       960.000000    2086.000000       7.121000\n",
       "max     50640.000000    2107.000000      52.066000"
      ]
     },
     "execution_count": 18,
     "metadata": {},
     "output_type": "execute_result"
    }
   ],
   "source": [
    "df.describe()"
   ]
  },
  {
   "cell_type": "code",
   "execution_count": 19,
   "metadata": {
    "scrolled": true
   },
   "outputs": [
    {
     "data": {
      "text/plain": [
       "50640"
      ]
     },
     "execution_count": 19,
     "metadata": {},
     "output_type": "execute_result"
    }
   ],
   "source": [
    "df.Duration.max()"
   ]
  },
  {
   "cell_type": "code",
   "execution_count": 20,
   "metadata": {},
   "outputs": [],
   "source": [
    "df['Duration'] = df['Duration'] / 60\n",
    "df['Gender'] = df.apply(lambda x: x['Title'].split(' ')[0].replace('ы', 'а'), axis=1)\n",
    "df['Age_group'] = df.apply(lambda x: x['Title'].split(' ')[1], axis=1)"
   ]
  },
  {
   "cell_type": "code",
   "execution_count": 21,
   "metadata": {},
   "outputs": [
    {
     "data": {
      "text/plain": [
       "844.0"
      ]
     },
     "execution_count": 21,
     "metadata": {},
     "output_type": "execute_result"
    }
   ],
   "source": [
    "df.Duration.max()"
   ]
  },
  {
   "cell_type": "code",
   "execution_count": 22,
   "metadata": {
    "scrolled": true
   },
   "outputs": [
    {
     "data": {
      "text/plain": [
       "Женщина    683\n",
       "Мужчина    616\n",
       "Name: Gender, dtype: int64"
      ]
     },
     "execution_count": 22,
     "metadata": {},
     "output_type": "execute_result"
    }
   ],
   "source": [
    "pd.DataFrame(df, columns = ['RespondentID', 'Gender']).drop_duplicates().Gender.value_counts()"
   ]
  },
  {
   "cell_type": "markdown",
   "metadata": {},
   "source": [
    "# Промежуточные выводы\n",
    "\n",
    "В датасэте вполне понятные колонки кроме 'Weight' (возможно, удельный вес данного респондента внутри этой группы(?)):\n",
    "    \n",
    "    ResearchDate - дата исследования\n",
    "    RespondentID - номер респондента\n",
    "    Start - начало сессии просмотра канала\n",
    "    Stop - конец сессии просмотра канала\n",
    "    Duration - длительность сессии в секундах, вычисляется как разница между концом и началом сессии + 60 секунд\n",
    "    PackageID - идентификатор телеканала(?)\n",
    "    Title - возрастная группа, в которую входит респондент\n",
    "    \n",
    "    \n",
    "    \n",
    "В датасэте 150297 значений и 8 колонок\n",
    "    \n",
    "По типам данных все порядке, проблем не наблюдается\n",
    "    \n",
    "NaN'ов в датафрэйме не наблюдается, проверка показала 0\n",
    "    \n",
    "Сбор данных (Длительность исследования) происходит с начала 6-го февраля до конца 13-го февраля, но при этом первое логирование данных произошло только в 5 утра 6-го числа, а последнее логирование закончилось 15-го февраля в 4:53 утра\n",
    "    \n",
    "Исследуем 1299 уникальных респондентов\n",
    "    \n",
    "Делим их на 12 групп по возрасту\n",
    "    \n",
    "Максимум одной сессии длится 844 минут(50640 секунд, если смотреть до обработки), что около ~14 часов на одном канале\n",
    "    \n",
    "В качестве предобработки данных перевел длительность в минуты для удобства чтения, т.к минимальная сессия - 1 минута\n",
    "\n",
    "Помимо этого было подсчитано количество участвующих респондетов по полу:\n",
    "    Женщин - 683, \n",
    "    Мужчин - 616"
   ]
  },
  {
   "cell_type": "code",
   "execution_count": null,
   "metadata": {},
   "outputs": [],
   "source": []
  },
  {
   "cell_type": "code",
   "execution_count": null,
   "metadata": {},
   "outputs": [],
   "source": []
  },
  {
   "cell_type": "code",
   "execution_count": null,
   "metadata": {},
   "outputs": [],
   "source": []
  },
  {
   "cell_type": "code",
   "execution_count": 23,
   "metadata": {
    "scrolled": true
   },
   "outputs": [
    {
     "data": {
      "text/html": [
       "<div>\n",
       "<style scoped>\n",
       "    .dataframe tbody tr th:only-of-type {\n",
       "        vertical-align: middle;\n",
       "    }\n",
       "\n",
       "    .dataframe tbody tr th {\n",
       "        vertical-align: top;\n",
       "    }\n",
       "\n",
       "    .dataframe thead th {\n",
       "        text-align: right;\n",
       "    }\n",
       "</style>\n",
       "<table border=\"1\" class=\"dataframe\">\n",
       "  <thead>\n",
       "    <tr style=\"text-align: right;\">\n",
       "      <th></th>\n",
       "      <th>ResearchDate</th>\n",
       "      <th>RespondentID</th>\n",
       "      <th>Start</th>\n",
       "      <th>Stop</th>\n",
       "      <th>Duration</th>\n",
       "      <th>PackageID</th>\n",
       "      <th>Weight</th>\n",
       "      <th>Title</th>\n",
       "      <th>Gender</th>\n",
       "      <th>Age_group</th>\n",
       "    </tr>\n",
       "  </thead>\n",
       "  <tbody>\n",
       "    <tr>\n",
       "      <th>0</th>\n",
       "      <td>2021-02-06</td>\n",
       "      <td>resp0478878</td>\n",
       "      <td>2021-02-06 20:20:00</td>\n",
       "      <td>2021-02-06 20:20:00</td>\n",
       "      <td>1.0</td>\n",
       "      <td>2004</td>\n",
       "      <td>6.590</td>\n",
       "      <td>Мужчины 45-54</td>\n",
       "      <td>Мужчина</td>\n",
       "      <td>45-54</td>\n",
       "    </tr>\n",
       "    <tr>\n",
       "      <th>1</th>\n",
       "      <td>2021-02-06</td>\n",
       "      <td>resp0478878</td>\n",
       "      <td>2021-02-06 15:45:00</td>\n",
       "      <td>2021-02-06 17:08:00</td>\n",
       "      <td>84.0</td>\n",
       "      <td>2039</td>\n",
       "      <td>6.590</td>\n",
       "      <td>Мужчины 45-54</td>\n",
       "      <td>Мужчина</td>\n",
       "      <td>45-54</td>\n",
       "    </tr>\n",
       "    <tr>\n",
       "      <th>2</th>\n",
       "      <td>2021-02-06</td>\n",
       "      <td>resp0478878</td>\n",
       "      <td>2021-02-06 10:07:00</td>\n",
       "      <td>2021-02-06 11:57:00</td>\n",
       "      <td>111.0</td>\n",
       "      <td>2075</td>\n",
       "      <td>6.590</td>\n",
       "      <td>Мужчины 45-54</td>\n",
       "      <td>Мужчина</td>\n",
       "      <td>45-54</td>\n",
       "    </tr>\n",
       "    <tr>\n",
       "      <th>3</th>\n",
       "      <td>2021-02-06</td>\n",
       "      <td>resp0478878</td>\n",
       "      <td>2021-02-06 21:05:00</td>\n",
       "      <td>2021-02-06 21:06:00</td>\n",
       "      <td>2.0</td>\n",
       "      <td>2075</td>\n",
       "      <td>6.590</td>\n",
       "      <td>Мужчины 45-54</td>\n",
       "      <td>Мужчина</td>\n",
       "      <td>45-54</td>\n",
       "    </tr>\n",
       "    <tr>\n",
       "      <th>4</th>\n",
       "      <td>2021-02-06</td>\n",
       "      <td>resp0478878</td>\n",
       "      <td>2021-02-06 18:09:00</td>\n",
       "      <td>2021-02-06 18:38:00</td>\n",
       "      <td>30.0</td>\n",
       "      <td>2086</td>\n",
       "      <td>6.590</td>\n",
       "      <td>Мужчины 45-54</td>\n",
       "      <td>Мужчина</td>\n",
       "      <td>45-54</td>\n",
       "    </tr>\n",
       "    <tr>\n",
       "      <th>5</th>\n",
       "      <td>2021-02-06</td>\n",
       "      <td>resp0478878</td>\n",
       "      <td>2021-02-06 15:41:00</td>\n",
       "      <td>2021-02-06 15:43:00</td>\n",
       "      <td>3.0</td>\n",
       "      <td>2077</td>\n",
       "      <td>6.590</td>\n",
       "      <td>Мужчины 45-54</td>\n",
       "      <td>Мужчина</td>\n",
       "      <td>45-54</td>\n",
       "    </tr>\n",
       "    <tr>\n",
       "      <th>6</th>\n",
       "      <td>2021-02-06</td>\n",
       "      <td>resp0478878</td>\n",
       "      <td>2021-02-06 20:37:00</td>\n",
       "      <td>2021-02-06 20:38:00</td>\n",
       "      <td>2.0</td>\n",
       "      <td>2036</td>\n",
       "      <td>6.590</td>\n",
       "      <td>Мужчины 45-54</td>\n",
       "      <td>Мужчина</td>\n",
       "      <td>45-54</td>\n",
       "    </tr>\n",
       "    <tr>\n",
       "      <th>7</th>\n",
       "      <td>2021-02-06</td>\n",
       "      <td>resp0773240</td>\n",
       "      <td>2021-02-06 11:45:00</td>\n",
       "      <td>2021-02-06 12:05:00</td>\n",
       "      <td>21.0</td>\n",
       "      <td>2101</td>\n",
       "      <td>6.712</td>\n",
       "      <td>Женщины 45-54</td>\n",
       "      <td>Женщина</td>\n",
       "      <td>45-54</td>\n",
       "    </tr>\n",
       "    <tr>\n",
       "      <th>8</th>\n",
       "      <td>2021-02-06</td>\n",
       "      <td>resp0773240</td>\n",
       "      <td>2021-02-06 12:14:00</td>\n",
       "      <td>2021-02-06 12:16:00</td>\n",
       "      <td>3.0</td>\n",
       "      <td>2050</td>\n",
       "      <td>6.712</td>\n",
       "      <td>Женщины 45-54</td>\n",
       "      <td>Женщина</td>\n",
       "      <td>45-54</td>\n",
       "    </tr>\n",
       "    <tr>\n",
       "      <th>9</th>\n",
       "      <td>2021-02-06</td>\n",
       "      <td>resp0773240</td>\n",
       "      <td>2021-02-06 12:27:00</td>\n",
       "      <td>2021-02-06 12:28:00</td>\n",
       "      <td>2.0</td>\n",
       "      <td>2074</td>\n",
       "      <td>6.712</td>\n",
       "      <td>Женщины 45-54</td>\n",
       "      <td>Женщина</td>\n",
       "      <td>45-54</td>\n",
       "    </tr>\n",
       "  </tbody>\n",
       "</table>\n",
       "</div>"
      ],
      "text/plain": [
       "  ResearchDate RespondentID               Start                Stop  Duration  \\\n",
       "0   2021-02-06  resp0478878 2021-02-06 20:20:00 2021-02-06 20:20:00       1.0   \n",
       "1   2021-02-06  resp0478878 2021-02-06 15:45:00 2021-02-06 17:08:00      84.0   \n",
       "2   2021-02-06  resp0478878 2021-02-06 10:07:00 2021-02-06 11:57:00     111.0   \n",
       "3   2021-02-06  resp0478878 2021-02-06 21:05:00 2021-02-06 21:06:00       2.0   \n",
       "4   2021-02-06  resp0478878 2021-02-06 18:09:00 2021-02-06 18:38:00      30.0   \n",
       "5   2021-02-06  resp0478878 2021-02-06 15:41:00 2021-02-06 15:43:00       3.0   \n",
       "6   2021-02-06  resp0478878 2021-02-06 20:37:00 2021-02-06 20:38:00       2.0   \n",
       "7   2021-02-06  resp0773240 2021-02-06 11:45:00 2021-02-06 12:05:00      21.0   \n",
       "8   2021-02-06  resp0773240 2021-02-06 12:14:00 2021-02-06 12:16:00       3.0   \n",
       "9   2021-02-06  resp0773240 2021-02-06 12:27:00 2021-02-06 12:28:00       2.0   \n",
       "\n",
       "   PackageID  Weight          Title   Gender Age_group  \n",
       "0       2004   6.590  Мужчины 45-54  Мужчина     45-54  \n",
       "1       2039   6.590  Мужчины 45-54  Мужчина     45-54  \n",
       "2       2075   6.590  Мужчины 45-54  Мужчина     45-54  \n",
       "3       2075   6.590  Мужчины 45-54  Мужчина     45-54  \n",
       "4       2086   6.590  Мужчины 45-54  Мужчина     45-54  \n",
       "5       2077   6.590  Мужчины 45-54  Мужчина     45-54  \n",
       "6       2036   6.590  Мужчины 45-54  Мужчина     45-54  \n",
       "7       2101   6.712  Женщины 45-54  Женщина     45-54  \n",
       "8       2050   6.712  Женщины 45-54  Женщина     45-54  \n",
       "9       2074   6.712  Женщины 45-54  Женщина     45-54  "
      ]
     },
     "execution_count": 23,
     "metadata": {},
     "output_type": "execute_result"
    }
   ],
   "source": [
    "df.head(10)"
   ]
  },
  {
   "cell_type": "code",
   "execution_count": 24,
   "metadata": {
    "scrolled": false
   },
   "outputs": [
    {
     "data": {
      "image/png": "[encoded data removed]",
      "text/plain": [
       "<Figure size 864x576 with 1 Axes>"
      ]
     },
     "metadata": {
      "needs_background": "light"
     },
     "output_type": "display_data"
    }
   ],
   "source": [
    "# График распределения количества просмотренных минут в зависимости от дня\n",
    "\n",
    "plt.figure(figsize=(12, 8))\n",
    "\n",
    "df.groupby([df['ResearchDate'].dt.day]).Duration.sum() \\\n",
    "    .plot(xlabel=\"День\", ylabel=\"Количество просмотренных минут\", kind=\"line\")\n",
    "\n",
    "plt.show()"
   ]
  },
  {
   "cell_type": "code",
   "execution_count": 25,
   "metadata": {
    "scrolled": false
   },
   "outputs": [
    {
     "data": {
      "image/png": "[encoded data removed]",
      "text/plain": [
       "<Figure size 864x576 with 1 Axes>"
      ]
     },
     "metadata": {
      "needs_background": "light"
     },
     "output_type": "display_data"
    }
   ],
   "source": [
    "# График распределения количества просмотренных минут в сумме по возрастной группе\n",
    "\n",
    "plt.figure(figsize=(12, 8))\n",
    "\n",
    "df.groupby('Title').Duration.sum().plot(xlabel=\"Возрастная группа и пол\", kind='barh')\n",
    "\n",
    "plt.show()"
   ]
  },
  {
   "cell_type": "code",
   "execution_count": 26,
   "metadata": {
    "scrolled": false
   },
   "outputs": [
    {
     "data": {
      "image/png": "[encoded data removed]",
      "text/plain": [
       "<Figure size 864x576 with 1 Axes>"
      ]
     },
     "metadata": {
      "needs_background": "light"
     },
     "output_type": "display_data"
    }
   ],
   "source": [
    "# График распределения количества просмотренных минут по возрастным группам\n",
    "\n",
    "plt.figure(figsize=(12, 8))\n",
    "\n",
    "df.groupby('Age_group').Duration.sum().plot(xlabel=\"Возрастная группа\", kind='barh')\n",
    "\n",
    "plt.show()"
   ]
  },
  {
   "cell_type": "code",
   "execution_count": 27,
   "metadata": {},
   "outputs": [
    {
     "data": {
      "image/png": "[encoded data removed]",
      "text/plain": [
       "<Figure size 864x576 with 1 Axes>"
      ]
     },
     "metadata": {
      "needs_background": "light"
     },
     "output_type": "display_data"
    }
   ],
   "source": [
    "# Количество участников в разрезе по возрастной группе\n",
    "\n",
    "plt.figure(figsize=(12, 8))\n",
    "\n",
    "pd.DataFrame(df, columns = ['RespondentID', 'Age_group']).drop_duplicates().Age_group.value_counts().sort_values() \\\n",
    "    .plot(xlabel=\"Возрастная группа\", kind='barh')\n",
    "\n",
    "plt.show()"
   ]
  },
  {
   "cell_type": "code",
   "execution_count": 28,
   "metadata": {
    "scrolled": false
   },
   "outputs": [
    {
     "data": {
      "image/png": "[encoded data removed]",
      "text/plain": [
       "<Figure size 864x576 with 1 Axes>"
      ]
     },
     "metadata": {
      "needs_background": "light"
     },
     "output_type": "display_data"
    }
   ],
   "source": [
    "# График отображающий количество начатых сессий в течение дня\n",
    "\n",
    "plt.figure(figsize=(12, 8))\n",
    "\n",
    "df.groupby([df['Start'].dt.hour]).RespondentID.count().plot(xlabel=\"Час\", ylabel=\"Количество начатых сессий\", kind=\"bar\")\n",
    "\n",
    "plt.show()"
   ]
  },
  {
   "cell_type": "code",
   "execution_count": 29,
   "metadata": {},
   "outputs": [
    {
     "data": {
      "image/png": "[encoded data removed]",
      "text/plain": [
       "<Figure size 864x576 with 1 Axes>"
      ]
     },
     "metadata": {
      "needs_background": "light"
     },
     "output_type": "display_data"
    }
   ],
   "source": [
    "# Количество просмотренных минут для топ10 каналов\n",
    "\n",
    "df.groupby(df['PackageID']).agg({\"Duration\": \"sum\"}) \\\n",
    "    .sort_values(\"Duration\", ascending=True).tail(10) \\\n",
    "    .plot(xlabel=\"Количество минут\", ylabel=\"Количество начатых сессий\", kind=\"barh\", figsize=(12, 8)) \n",
    "\n",
    "plt.show()"
   ]
  },
  {
   "cell_type": "code",
   "execution_count": 30,
   "metadata": {},
   "outputs": [
    {
     "data": {
      "image/png": "[encoded data removed]",
      "text/plain": [
       "<Figure size 864x576 with 1 Axes>"
      ]
     },
     "metadata": {
      "needs_background": "light"
     },
     "output_type": "display_data"
    }
   ],
   "source": [
    "# Медиана просмотренных минут по дням на человека\n",
    "\n",
    "plt.figure(figsize=(12, 8))\n",
    "\n",
    "df.groupby([df['ResearchDate'].dt.day]).Duration.median() \\\n",
    "    .plot(xlabel=\"День\", kind=\"barh\")\n",
    "\n",
    "plt.show()"
   ]
  },
  {
   "cell_type": "code",
   "execution_count": 31,
   "metadata": {},
   "outputs": [
    {
     "data": {
      "text/html": [
       "<div>\n",
       "<style scoped>\n",
       "    .dataframe tbody tr th:only-of-type {\n",
       "        vertical-align: middle;\n",
       "    }\n",
       "\n",
       "    .dataframe tbody tr th {\n",
       "        vertical-align: top;\n",
       "    }\n",
       "\n",
       "    .dataframe thead th {\n",
       "        text-align: right;\n",
       "    }\n",
       "</style>\n",
       "<table border=\"1\" class=\"dataframe\">\n",
       "  <thead>\n",
       "    <tr style=\"text-align: right;\">\n",
       "      <th></th>\n",
       "      <th>Number_of_people</th>\n",
       "      <th>Duration</th>\n",
       "      <th>Minutes_by_1_person</th>\n",
       "    </tr>\n",
       "  </thead>\n",
       "  <tbody>\n",
       "    <tr>\n",
       "      <th>35-44</th>\n",
       "      <td>334</td>\n",
       "      <td>513641.0</td>\n",
       "      <td>1538.0</td>\n",
       "    </tr>\n",
       "    <tr>\n",
       "      <th>25-34</th>\n",
       "      <td>253</td>\n",
       "      <td>289023.0</td>\n",
       "      <td>1142.0</td>\n",
       "    </tr>\n",
       "    <tr>\n",
       "      <th>45-54</th>\n",
       "      <td>252</td>\n",
       "      <td>473002.0</td>\n",
       "      <td>1877.0</td>\n",
       "    </tr>\n",
       "    <tr>\n",
       "      <th>55-64</th>\n",
       "      <td>239</td>\n",
       "      <td>634091.0</td>\n",
       "      <td>2653.0</td>\n",
       "    </tr>\n",
       "    <tr>\n",
       "      <th>65+</th>\n",
       "      <td>145</td>\n",
       "      <td>436403.0</td>\n",
       "      <td>3010.0</td>\n",
       "    </tr>\n",
       "  </tbody>\n",
       "</table>\n",
       "</div>"
      ],
      "text/plain": [
       "       Number_of_people  Duration  Minutes_by_1_person\n",
       "35-44               334  513641.0               1538.0\n",
       "25-34               253  289023.0               1142.0\n",
       "45-54               252  473002.0               1877.0\n",
       "55-64               239  634091.0               2653.0\n",
       "65+                 145  436403.0               3010.0"
      ]
     },
     "execution_count": 31,
     "metadata": {},
     "output_type": "execute_result"
    }
   ],
   "source": [
    "# Сделаем дополнительный df для анализа в разбивке по возрасту\n",
    "\n",
    "df2 = pd.concat([pd.DataFrame(df, columns = ['RespondentID', 'Age_group']).drop_duplicates().Age_group.value_counts(), \n",
    "                                 df.groupby('Age_group').Duration.sum()], axis=1)\n",
    "\n",
    "df2.rename(columns={'Age_group': 'Number_of_people'}, inplace=True)\n",
    "df2['Minutes_by_1_person'] = round(df2.Duration / df2.Number_of_people)\n",
    "\n",
    "df2.head()"
   ]
  },
  {
   "cell_type": "markdown",
   "metadata": {},
   "source": [
    "# Выводы о потреблении контента\n",
    "\n",
    "1. 6-7 и 13-14 февраля наблюдаются явные пики с максимумом 7-го (минимум 9-ое число). Связано это с тем что эти дни - выходные, в выходные дни больше всего смотрят телевизор, т.к. больше свободного времени. Утверждать что во вторники смотрят меньше всего нельзя, т.к нельзя проследить динамику (больше одного вторника) и не возможно логически подкрепить данное предположение\n",
    "\n",
    "2. В разбивке по возрастным группам и по полам можем наблюдать следующую картину:\n",
    "    - В группе 18-24 смотрят меньше всего\n",
    "    - В группе 55-64 для мужчин и женщин находится максимальное количество просмотренных минут\n",
    "    - В общем сумме женщины больше смотрят телевизор\n",
    "    - Мужчины 18-24 и 25-34 смотрят больше чем Женщины этих групп, но дальше динамика наоборот\n",
    "    \n",
    "3. Самыми популярными каналами по количеству просмотренных минут являются:\n",
    "    - 2085\n",
    "    - 2077\n",
    "    - 2075\n",
    "    - 2083\n",
    "    - 2076\n",
    "    - 2091\n",
    "    - 2097\n",
    "    - 2081\n",
    "    - 2074\n",
    "    - 2054\n",
    "\n",
    "4. С помощью df2 мы можем утверждать, что:\n",
    "    - Больше всего людей в группе 35-44 (334), а меньше всего в 65+ (145)\n",
    "    - В сумме больше всего посмотрели минут люди из категории 55-64 (634к), а меньше всего 25-34 (289к)\n",
    "    - Больше всего просмотренных минут на человека за весь период исследования приходится на людей из группы 65+ (3к), тогда как меньше всего на людей из группы 25-34 (1,1к)\n",
    "    \n",
    "Примечание: дополнить можно было бы\n",
    "    \n",
    "    1) Сделав разбивку для графиков для категорий по полу\n",
    "    \n",
    "    2) Сделать разбивки по среднему или даже лучше медиане(чтобы избавиться от сильных выбросов) вместо суммы минут (Хотя df.describe() сказал нам что медиана для Duration у нас будет 5 минут)\n",
    "    \n",
    "    upd. График действительно не очень информативный: у нас везде медиана потребления в 5 минут, кроме 6-го числа, где она равна 4-ем минутам. Если бы данные были более сложные (секунды не были бы 00), то возможно это была бы более интересная характеристика"
   ]
  },
  {
   "cell_type": "code",
   "execution_count": null,
   "metadata": {},
   "outputs": [],
   "source": []
  },
  {
   "cell_type": "code",
   "execution_count": null,
   "metadata": {},
   "outputs": [],
   "source": []
  },
  {
   "cell_type": "code",
   "execution_count": null,
   "metadata": {},
   "outputs": [],
   "source": []
  },
  {
   "cell_type": "code",
   "execution_count": 32,
   "metadata": {},
   "outputs": [],
   "source": [
    "# Приземляем к началу часа старт и стоп, чтобы при прогонке по частоте был учтен каждый час\n",
    "\n",
    "df['Start_hour'] = df.Start.dt.floor('h')\n",
    "df['Stop_hour'] = df.Stop.dt.floor('h')"
   ]
  },
  {
   "cell_type": "code",
   "execution_count": 33,
   "metadata": {},
   "outputs": [],
   "source": [
    "# Пишем анонимную функцию, которая собирает все часы между интервалами для каждой строки\n",
    "\n",
    "df['Interval'] = df.apply(lambda x: pd.date_range(x['Start_hour'], x['Stop_hour'], freq='H'), axis=1)"
   ]
  },
  {
   "cell_type": "code",
   "execution_count": 34,
   "metadata": {
    "scrolled": true
   },
   "outputs": [
    {
     "data": {
      "text/html": [
       "<div>\n",
       "<style scoped>\n",
       "    .dataframe tbody tr th:only-of-type {\n",
       "        vertical-align: middle;\n",
       "    }\n",
       "\n",
       "    .dataframe tbody tr th {\n",
       "        vertical-align: top;\n",
       "    }\n",
       "\n",
       "    .dataframe thead th {\n",
       "        text-align: right;\n",
       "    }\n",
       "</style>\n",
       "<table border=\"1\" class=\"dataframe\">\n",
       "  <thead>\n",
       "    <tr style=\"text-align: right;\">\n",
       "      <th></th>\n",
       "      <th>ResearchDate</th>\n",
       "      <th>RespondentID</th>\n",
       "      <th>Start</th>\n",
       "      <th>Stop</th>\n",
       "      <th>Duration</th>\n",
       "      <th>PackageID</th>\n",
       "      <th>Weight</th>\n",
       "      <th>Title</th>\n",
       "      <th>Gender</th>\n",
       "      <th>Age_group</th>\n",
       "      <th>Start_hour</th>\n",
       "      <th>Stop_hour</th>\n",
       "      <th>Interval</th>\n",
       "    </tr>\n",
       "  </thead>\n",
       "  <tbody>\n",
       "    <tr>\n",
       "      <th>0</th>\n",
       "      <td>2021-02-06</td>\n",
       "      <td>resp0478878</td>\n",
       "      <td>2021-02-06 20:20:00</td>\n",
       "      <td>2021-02-06 20:20:00</td>\n",
       "      <td>1.0</td>\n",
       "      <td>2004</td>\n",
       "      <td>6.59</td>\n",
       "      <td>Мужчины 45-54</td>\n",
       "      <td>Мужчина</td>\n",
       "      <td>45-54</td>\n",
       "      <td>2021-02-06 20:00:00</td>\n",
       "      <td>2021-02-06 20:00:00</td>\n",
       "      <td>DatetimeIndex(['2021-02-06 20:00:00'], dtype='...</td>\n",
       "    </tr>\n",
       "    <tr>\n",
       "      <th>1</th>\n",
       "      <td>2021-02-06</td>\n",
       "      <td>resp0478878</td>\n",
       "      <td>2021-02-06 15:45:00</td>\n",
       "      <td>2021-02-06 17:08:00</td>\n",
       "      <td>84.0</td>\n",
       "      <td>2039</td>\n",
       "      <td>6.59</td>\n",
       "      <td>Мужчины 45-54</td>\n",
       "      <td>Мужчина</td>\n",
       "      <td>45-54</td>\n",
       "      <td>2021-02-06 15:00:00</td>\n",
       "      <td>2021-02-06 17:00:00</td>\n",
       "      <td>DatetimeIndex(['2021-02-06 15:00:00', '2021-02...</td>\n",
       "    </tr>\n",
       "    <tr>\n",
       "      <th>2</th>\n",
       "      <td>2021-02-06</td>\n",
       "      <td>resp0478878</td>\n",
       "      <td>2021-02-06 10:07:00</td>\n",
       "      <td>2021-02-06 11:57:00</td>\n",
       "      <td>111.0</td>\n",
       "      <td>2075</td>\n",
       "      <td>6.59</td>\n",
       "      <td>Мужчины 45-54</td>\n",
       "      <td>Мужчина</td>\n",
       "      <td>45-54</td>\n",
       "      <td>2021-02-06 10:00:00</td>\n",
       "      <td>2021-02-06 11:00:00</td>\n",
       "      <td>DatetimeIndex(['2021-02-06 10:00:00', '2021-02...</td>\n",
       "    </tr>\n",
       "    <tr>\n",
       "      <th>3</th>\n",
       "      <td>2021-02-06</td>\n",
       "      <td>resp0478878</td>\n",
       "      <td>2021-02-06 21:05:00</td>\n",
       "      <td>2021-02-06 21:06:00</td>\n",
       "      <td>2.0</td>\n",
       "      <td>2075</td>\n",
       "      <td>6.59</td>\n",
       "      <td>Мужчины 45-54</td>\n",
       "      <td>Мужчина</td>\n",
       "      <td>45-54</td>\n",
       "      <td>2021-02-06 21:00:00</td>\n",
       "      <td>2021-02-06 21:00:00</td>\n",
       "      <td>DatetimeIndex(['2021-02-06 21:00:00'], dtype='...</td>\n",
       "    </tr>\n",
       "    <tr>\n",
       "      <th>4</th>\n",
       "      <td>2021-02-06</td>\n",
       "      <td>resp0478878</td>\n",
       "      <td>2021-02-06 18:09:00</td>\n",
       "      <td>2021-02-06 18:38:00</td>\n",
       "      <td>30.0</td>\n",
       "      <td>2086</td>\n",
       "      <td>6.59</td>\n",
       "      <td>Мужчины 45-54</td>\n",
       "      <td>Мужчина</td>\n",
       "      <td>45-54</td>\n",
       "      <td>2021-02-06 18:00:00</td>\n",
       "      <td>2021-02-06 18:00:00</td>\n",
       "      <td>DatetimeIndex(['2021-02-06 18:00:00'], dtype='...</td>\n",
       "    </tr>\n",
       "  </tbody>\n",
       "</table>\n",
       "</div>"
      ],
      "text/plain": [
       "  ResearchDate RespondentID               Start                Stop  Duration  \\\n",
       "0   2021-02-06  resp0478878 2021-02-06 20:20:00 2021-02-06 20:20:00       1.0   \n",
       "1   2021-02-06  resp0478878 2021-02-06 15:45:00 2021-02-06 17:08:00      84.0   \n",
       "2   2021-02-06  resp0478878 2021-02-06 10:07:00 2021-02-06 11:57:00     111.0   \n",
       "3   2021-02-06  resp0478878 2021-02-06 21:05:00 2021-02-06 21:06:00       2.0   \n",
       "4   2021-02-06  resp0478878 2021-02-06 18:09:00 2021-02-06 18:38:00      30.0   \n",
       "\n",
       "   PackageID  Weight          Title   Gender Age_group          Start_hour  \\\n",
       "0       2004    6.59  Мужчины 45-54  Мужчина     45-54 2021-02-06 20:00:00   \n",
       "1       2039    6.59  Мужчины 45-54  Мужчина     45-54 2021-02-06 15:00:00   \n",
       "2       2075    6.59  Мужчины 45-54  Мужчина     45-54 2021-02-06 10:00:00   \n",
       "3       2075    6.59  Мужчины 45-54  Мужчина     45-54 2021-02-06 21:00:00   \n",
       "4       2086    6.59  Мужчины 45-54  Мужчина     45-54 2021-02-06 18:00:00   \n",
       "\n",
       "            Stop_hour                                           Interval  \n",
       "0 2021-02-06 20:00:00  DatetimeIndex(['2021-02-06 20:00:00'], dtype='...  \n",
       "1 2021-02-06 17:00:00  DatetimeIndex(['2021-02-06 15:00:00', '2021-02...  \n",
       "2 2021-02-06 11:00:00  DatetimeIndex(['2021-02-06 10:00:00', '2021-02...  \n",
       "3 2021-02-06 21:00:00  DatetimeIndex(['2021-02-06 21:00:00'], dtype='...  \n",
       "4 2021-02-06 18:00:00  DatetimeIndex(['2021-02-06 18:00:00'], dtype='...  "
      ]
     },
     "execution_count": 34,
     "metadata": {},
     "output_type": "execute_result"
    }
   ],
   "source": [
    "df.head()"
   ]
  },
  {
   "cell_type": "code",
   "execution_count": 35,
   "metadata": {},
   "outputs": [
    {
     "data": {
      "text/plain": [
       "DatetimeIndex(['2021-02-06 20:00:00'], dtype='datetime64[ns]', freq='H')"
      ]
     },
     "execution_count": 35,
     "metadata": {},
     "output_type": "execute_result"
    }
   ],
   "source": [
    "# Проверяем что для первой сессии 20:20-20:20 у нас содержится только одно значение\n",
    "\n",
    "df.Interval.iloc[0]"
   ]
  },
  {
   "cell_type": "code",
   "execution_count": 36,
   "metadata": {
    "scrolled": true
   },
   "outputs": [
    {
     "data": {
      "text/plain": [
       "DatetimeIndex(['2021-02-06 15:00:00', '2021-02-06 16:00:00',\n",
       "               '2021-02-06 17:00:00'],\n",
       "              dtype='datetime64[ns]', freq='H')"
      ]
     },
     "execution_count": 36,
     "metadata": {},
     "output_type": "execute_result"
    }
   ],
   "source": [
    "# Проверяем что для второй сессии 15:45-17:08 у нас содержится три значения\n",
    "\n",
    "df.Interval.iloc[1]"
   ]
  },
  {
   "cell_type": "code",
   "execution_count": 37,
   "metadata": {
    "scrolled": false
   },
   "outputs": [
    {
     "data": {
      "image/png": "[encoded data removed]",
      "text/plain": [
       "<Figure size 864x576 with 1 Axes>"
      ]
     },
     "metadata": {
      "needs_background": "light"
     },
     "output_type": "display_data"
    }
   ],
   "source": [
    "# Применяем функцию explode() для выгрузки дат в столбец, а потом с помощью dt.hour вытакскиваем час для каждой даты.\n",
    "# Потом проводим подсчет через value_counts() и сортируем по индексу в порядке возрастания\n",
    "\n",
    "plt.figure(figsize=(12, 8))\n",
    "\n",
    "df.Interval.explode().dt.hour.value_counts().sort_index(ascending=True) \\\n",
    "    .plot(xlabel=\"Час\", ylabel=\"Количество сессий\", kind='bar').set_title('Почасовая динамика')\n",
    "\n",
    "plt.show()"
   ]
  },
  {
   "cell_type": "code",
   "execution_count": 40,
   "metadata": {},
   "outputs": [],
   "source": [
    "df3 = df.Interval.explode().dt.hour.value_counts().sort_index(ascending=True)"
   ]
  },
  {
   "cell_type": "code",
   "execution_count": 97,
   "metadata": {},
   "outputs": [],
   "source": [
    "compression_opts = dict(method='zip',\n",
    "                        archive_name='out.csv')  \n",
    "df.to_csv('out.zip', index=False,\n",
    "          compression=compression_opts)  "
   ]
  },
  {
   "cell_type": "code",
   "execution_count": 101,
   "metadata": {},
   "outputs": [],
   "source": [
    "compression_opts = dict(method='zip',\n",
    "                        archive_name='out2.csv')  \n",
    "df2.to_csv('out2.zip', index=False,\n",
    "          compression=compression_opts) "
   ]
  },
  {
   "cell_type": "code",
   "execution_count": 102,
   "metadata": {},
   "outputs": [],
   "source": [
    "compression_opts = dict(method='zip',\n",
    "                        archive_name='out3.csv')  \n",
    "df3.to_csv('out3.zip', index=False,\n",
    "          compression=compression_opts) "
   ]
  },
  {
   "cell_type": "code",
   "execution_count": null,
   "metadata": {},
   "outputs": [],
   "source": []
  },
  {
   "cell_type": "code",
   "execution_count": null,
   "metadata": {},
   "outputs": [],
   "source": []
  }
 ],
 "metadata": {
  "kernelspec": {
   "display_name": "Python 3",
   "language": "python",
   "name": "python3"
  },
  "language_info": {
   "codemirror_mode": {
    "name": "ipython",
    "version": 3
   },
   "file_extension": ".py",
   "mimetype": "text/x-python",
   "name": "python",
   "nbconvert_exporter": "python",
   "pygments_lexer": "ipython3",
   "version": "3.7.3"
  }
 },
 "nbformat": 4,
 "nbformat_minor": 4
}
